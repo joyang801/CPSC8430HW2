{
 "cells": [
  {
   "cell_type": "code",
   "execution_count": 1,
   "id": "4caaf24b-abaf-4770-b472-b59c562583bd",
   "metadata": {},
   "outputs": [],
   "source": [
    "import torch\n",
    "import matplotlib.pyplot as plt\n",
    "\n",
    "# 导入自定义模块\n",
    "from dataset import *\n",
    "from model import *  \n",
    "from utils import *\n",
    "from config import * \n",
    "from tqdm import tqdm "
   ]
  },
  {
   "cell_type": "code",
   "execution_count": 2,
   "id": "db7e45b1-740d-4199-995e-a53b90b67d36",
   "metadata": {},
   "outputs": [
    {
     "name": "stdout",
     "output_type": "stream",
     "text": [
      "=== Training Parameters ===\n",
      "Batch Size: 64\n",
      "Epochs: 130\n",
      "Hidden Size: 256\n",
      "Dropout Rate: 0.3\n",
      "Learning Rate: 0.0003\n",
      "Device: cuda\n",
      "\n",
      "Loading datasets...\n",
      "Loading Train Input: /home/qiaoyiy/cpsc8430/HW2/MLDS_hw2_1_data/training_data\n",
      "Loading Test Input: /home/qiaoyiy/cpsc8430/HW2/MLDS_hw2_1_data/testing_data\n",
      "Loading Train Label: /home/qiaoyiy/cpsc8430/HW2/MLDS_hw2_1_data/training_label.json\n",
      "Loading Test Label: /home/qiaoyiy/cpsc8430/HW2/MLDS_hw2_1_data/testing_label.json\n",
      "Loading complete.\n"
     ]
    }
   ],
   "source": [
    "# 设置设备\n",
    "device = torch.device(\"cuda\" if torch.cuda.is_available() else \"cpu\")\n",
    "\n",
    "# 打印训练参数\n",
    "print('=== Training Parameters ===')\n",
    "\n",
    "print(f'Batch Size: {batch_size}')\n",
    "print(f'Epochs: {epoch}')\n",
    "print(f'Hidden Size: {hidden_size}')\n",
    "print(f'Dropout Rate: {dropout_rate}')\n",
    "print(f'Learning Rate: {lr}')\n",
    "print(f'Device: {device}\\n')\n",
    "\n",
    "# 加载数据集\n",
    "print('Loading datasets...')\n",
    "print(f'Loading Train Input: {train_input}')\n",
    "print(f'Loading Test Input: {test_input}')\n",
    "print(f'Loading Train Label: {train_label}')\n",
    "print(f'Loading Test Label: {test_label}')\n",
    "\n",
    "train_dataset = VideoDataset(train_input, train_label, is_train=True)\n",
    "test_dataset = VideoDataset(test_input, test_label, is_train=False, vocab=train_dataset.vocab, tokens_word=train_dataset.tokens_word, tokens_idx=train_dataset.tokens_idx, clength=train_dataset.clength)\n",
    "\n",
    "train_loader = torch.utils.data.DataLoader(train_dataset, batch_size=batch_size, drop_last=True, shuffle=True)\n",
    "test_loader = torch.utils.data.DataLoader(test_dataset, batch_size=test_batch_size, drop_last=True, shuffle=True)\n",
    "\n",
    "\n",
    "\n",
    "\n",
    "print('Loading complete.')"
   ]
  },
  {
   "cell_type": "code",
   "execution_count": 3,
   "id": "2f0aff82-0e6f-4fa4-a2e0-8594f065ae34",
   "metadata": {},
   "outputs": [
    {
     "name": "stdout",
     "output_type": "stream",
     "text": [
      "=== Model Summary ===\n",
      "S2SModel(\n",
      "  (drop): Dropout(p=0.3, inplace=False)\n",
      "  (linear1): Linear(in_features=4096, out_features=256, bias=True)\n",
      "  (linear2): Linear(in_features=256, out_features=2406, bias=True)\n",
      "  (lstm1): LSTM(256, 256, batch_first=True)\n",
      "  (lstm2): LSTM(512, 256, batch_first=True)\n",
      "  (embedding): Embedding(2406, 256)\n",
      ")\n",
      "\n",
      "Starting training...\n",
      "\n"
     ]
    },
    {
     "name": "stderr",
     "output_type": "stream",
     "text": [
      "Epoch 1/130, Loss: 59.4620:   1%|          | 1/130 [00:53<1:54:11, 53.11s/it]"
     ]
    },
    {
     "name": "stdout",
     "output_type": "stream",
     "text": [
      "Testing Model:\n",
      "Video 1:\n",
      "Prediction:\n",
      "a man is a\n",
      "Label:\n",
      "The men are exercising.\n",
      "Video 2:\n",
      "Prediction:\n",
      "a man is playing a <UNK>\n",
      "Label:\n",
      "A dog is breaking a lot of balloons on the floor.\n",
      "Video 3:\n",
      "Prediction:\n",
      "a a is a a\n",
      "Label:\n",
      "Three little boys are playing in an inflatable swimming pool.\n"
     ]
    },
    {
     "name": "stderr",
     "output_type": "stream",
     "text": [
      "Epoch 10/130, Loss: 34.5030:   8%|▊         | 10/130 [08:47<1:45:29, 52.75s/it]"
     ]
    },
    {
     "name": "stdout",
     "output_type": "stream",
     "text": [
      "Testing Model:\n",
      "Video 1:\n",
      "Prediction:\n",
      "a individual is <UNK> a <UNK>\n",
      "Label:\n",
      "An elephant is holding a paintbrush in his trunk and painting a line on a canvas.\n",
      "Video 2:\n",
      "Prediction:\n",
      "a cat dog is on a dog\n",
      "Label:\n",
      "A little dog barks at the camera.\n",
      "Video 3:\n",
      "Prediction:\n",
      "a man is riding on\n",
      "Label:\n",
      "The man is running away from the other men.\n"
     ]
    },
    {
     "name": "stderr",
     "output_type": "stream",
     "text": [
      "Epoch 20/130, Loss: 27.9442:  15%|█▌        | 20/130 [17:34<1:36:36, 52.70s/it]"
     ]
    },
    {
     "name": "stdout",
     "output_type": "stream",
     "text": [
      "Testing Model:\n",
      "Video 1:\n",
      "Prediction:\n",
      "a man is slicing a tomato\n",
      "Label:\n",
      "A man is slicing a cucumber lengthwise and scooping out the seeds.\n",
      "Video 2:\n",
      "Prediction:\n",
      "a people are riding on a motorcycle bike\n",
      "Label:\n",
      "Two people are working on a power line and one of them is electrocuted.\n",
      "Video 3:\n",
      "Prediction:\n",
      "a woman is mixing ingrediants in in a bowl\n",
      "Label:\n",
      "A woman is mixing sushi ingredients in a bowl.\n"
     ]
    },
    {
     "name": "stderr",
     "output_type": "stream",
     "text": [
      "Epoch 30/130, Loss: 22.6661:  23%|██▎       | 30/130 [26:22<1:27:51, 52.72s/it]"
     ]
    },
    {
     "name": "stdout",
     "output_type": "stream",
     "text": [
      "Testing Model:\n",
      "Video 1:\n",
      "Prediction:\n",
      "a man is playing a\n",
      "Label:\n",
      "A man is playing guitar.\n",
      "Video 2:\n",
      "Prediction:\n",
      "a lady cracked the meat oil in the bowl\n",
      "Label:\n",
      "The lady stirred the hot food in the bowl.\n",
      "Video 3:\n",
      "Prediction:\n",
      "a car is running on <UNK>\n",
      "Label:\n",
      "A dog is riding a skateboard on the road.\n"
     ]
    },
    {
     "name": "stderr",
     "output_type": "stream",
     "text": [
      "Epoch 40/130, Loss: 16.5855:  31%|███       | 40/130 [35:08<1:18:53, 52.59s/it]"
     ]
    },
    {
     "name": "stdout",
     "output_type": "stream",
     "text": [
      "Testing Model:\n",
      "Video 1:\n",
      "Prediction:\n",
      "a man is to a <UNK>\n",
      "Label:\n",
      "A man talks on a telephone.\n",
      "Video 2:\n",
      "Prediction:\n",
      "a individual is <UNK>\n",
      "Label:\n",
      "An individual stirs food in a pot.\n",
      "Video 3:\n",
      "Prediction:\n",
      "a <UNK> is moving on a road of\n",
      "Label:\n",
      "A train is passing on the railway-track.\n"
     ]
    },
    {
     "name": "stderr",
     "output_type": "stream",
     "text": [
      "Epoch 50/130, Loss: 14.9628:  38%|███▊      | 50/130 [43:55<1:10:13, 52.67s/it]"
     ]
    },
    {
     "name": "stdout",
     "output_type": "stream",
     "text": [
      "Testing Model:\n",
      "Video 1:\n",
      "Prediction:\n",
      "a cat is across the ground of a ground\n",
      "Label:\n",
      "A turtle walks on the bottom of the ocean.\n",
      "Video 2:\n",
      "Prediction:\n",
      "a man is playing a drums\n",
      "Label:\n",
      "A man is playing the drums.\n",
      "Video 3:\n",
      "Prediction:\n",
      "a man is playing a a\n",
      "Label:\n",
      "A man is playing on drums.\n"
     ]
    },
    {
     "name": "stderr",
     "output_type": "stream",
     "text": [
      "Epoch 60/130, Loss: 14.4465:  46%|████▌     | 60/130 [52:42<1:01:31, 52.73s/it]"
     ]
    },
    {
     "name": "stdout",
     "output_type": "stream",
     "text": [
      "Testing Model:\n",
      "Video 1:\n",
      "Prediction:\n",
      "a man is talking\n",
      "Label:\n",
      "A man is speaking.\n",
      "Video 2:\n",
      "Prediction:\n",
      "a individual is a <UNK> <UNK> to a hand on <UNK> the the <UNK> <UNK> of <UNK>\n",
      "Label:\n",
      "An elephant holding a paint brush with his trunk is painting on a white sheet of paper affixed on an easel board.\n",
      "Video 3:\n",
      "Prediction:\n",
      "a man elephant is walking\n",
      "Label:\n",
      "A baby elephant is eating leaves off a small tree.\n"
     ]
    },
    {
     "name": "stderr",
     "output_type": "stream",
     "text": [
      "Epoch 70/130, Loss: 13.3249:  54%|█████▍    | 70/130 [1:01:29<52:41, 52.69s/it]"
     ]
    },
    {
     "name": "stdout",
     "output_type": "stream",
     "text": [
      "Testing Model:\n",
      "Video 1:\n",
      "Prediction:\n",
      "a woman is slicing a\n",
      "Label:\n",
      "A person is slicing flour tortillas with a knife.\n",
      "Video 2:\n",
      "Prediction:\n",
      "a man is walking a\n",
      "Label:\n",
      "A man is making noises in a field.\n",
      "Video 3:\n",
      "Prediction:\n",
      "a man is doing on the pavement\n",
      "Label:\n",
      "A woman is talking on a mobile phone.\n"
     ]
    },
    {
     "name": "stderr",
     "output_type": "stream",
     "text": [
      "Epoch 80/130, Loss: 11.6972:  62%|██████▏   | 80/130 [1:10:16<43:57, 52.75s/it]"
     ]
    },
    {
     "name": "stdout",
     "output_type": "stream",
     "text": [
      "Testing Model:\n",
      "Video 1:\n",
      "Prediction:\n",
      "a man is a <UNK>\n",
      "Label:\n",
      "A man stuffed his face with food.\n",
      "Video 2:\n",
      "Prediction:\n",
      "a man is playing a guitar\n",
      "Label:\n",
      "A man is playing electric guitar.\n",
      "Video 3:\n",
      "Prediction:\n",
      "a are doing\n",
      "Label:\n",
      "Runners are racing on a track.\n"
     ]
    },
    {
     "name": "stderr",
     "output_type": "stream",
     "text": [
      "Epoch 90/130, Loss: 12.4834:  69%|██████▉   | 90/130 [1:19:04<35:20, 53.01s/it]"
     ]
    },
    {
     "name": "stdout",
     "output_type": "stream",
     "text": [
      "Testing Model:\n",
      "Video 1:\n",
      "Prediction:\n",
      "a man is cutting something to to <UNK> kitchen in\n",
      "Label:\n",
      "A man is sprinkling flour on a raw chicken.\n",
      "Video 2:\n",
      "Prediction:\n",
      "a boys men <UNK> the the <UNK>\n",
      "Label:\n",
      "The cartoon girl dived into the pool from the diving board.\n",
      "Video 3:\n",
      "Prediction:\n",
      "a <UNK> are a <UNK>\n",
      "Label:\n",
      "Veronica dived into the pool from the diving board.\n"
     ]
    },
    {
     "name": "stderr",
     "output_type": "stream",
     "text": [
      "Epoch 100/130, Loss: 10.7574:  77%|███████▋  | 100/130 [1:28:00<26:46, 53.56s/it]"
     ]
    },
    {
     "name": "stdout",
     "output_type": "stream",
     "text": [
      "Testing Model:\n",
      "Video 1:\n",
      "Prediction:\n",
      "a man man is walking <UNK>\n",
      "Label:\n",
      "A young man is doing handstands, jumping across several lined up vertical concrete slabs.\n",
      "Video 2:\n",
      "Prediction:\n",
      "a man is a headset <UNK> man is talks is talking\n",
      "Label:\n",
      "A man in a yellow hard hat and sunglasses is talking.\n",
      "Video 3:\n",
      "Prediction:\n",
      "a men are kissing\n",
      "Label:\n",
      "Two girls are kissing.\n"
     ]
    },
    {
     "name": "stderr",
     "output_type": "stream",
     "text": [
      "Epoch 110/130, Loss: 9.8580:  85%|████████▍ | 110/130 [1:36:53<17:38, 52.94s/it] "
     ]
    },
    {
     "name": "stdout",
     "output_type": "stream",
     "text": [
      "Testing Model:\n",
      "Video 1:\n",
      "Prediction:\n",
      "a woman is cooking a\n",
      "Label:\n",
      "A person is cooking food on a frying pan.\n",
      "Video 2:\n",
      "Prediction:\n",
      "a man is <UNK> a\n",
      "Label:\n",
      "A cat is watching wrestling on television.\n",
      "Video 3:\n",
      "Prediction:\n",
      "a man is cutting a tomato of an tomato\n",
      "Label:\n",
      "A person is cutting a central of a cucumber.\n"
     ]
    },
    {
     "name": "stderr",
     "output_type": "stream",
     "text": [
      "Epoch 120/130, Loss: 9.4329:  92%|█████████▏| 120/130 [1:45:40<08:47, 52.78s/it] "
     ]
    },
    {
     "name": "stdout",
     "output_type": "stream",
     "text": [
      "Testing Model:\n",
      "Video 1:\n",
      "Prediction:\n",
      "a man is pouring a cheese on a tortilla\n",
      "Label:\n",
      "A man is spreading shredded cheese onto a tortilla.\n",
      "Video 2:\n",
      "Prediction:\n",
      "a woman is taking a in a\n",
      "Label:\n",
      "A woman is extracting juice from lemon.\n",
      "Video 3:\n",
      "Prediction:\n",
      "a man is a <UNK> is\n",
      "Label:\n",
      "A person in a hospital bed is getting wheeled into a room.\n"
     ]
    },
    {
     "name": "stderr",
     "output_type": "stream",
     "text": [
      "Epoch 130/130, Loss: 8.4417: 100%|██████████| 130/130 [1:54:27<00:00, 52.82s/it] \n"
     ]
    },
    {
     "name": "stdout",
     "output_type": "stream",
     "text": [
      "Testing Model:\n",
      "Video 1:\n",
      "Prediction:\n",
      "a man is tricks on the <UNK> on\n",
      "Label:\n",
      "The man did circles on the back tire of his motorcycle in the parking lot.\n",
      "Video 2:\n",
      "Prediction:\n",
      "a lady is slicing a\n",
      "Label:\n",
      "The cook is slicing tortillas.\n",
      "Video 3:\n",
      "Prediction:\n",
      "a woman is playing a baby with a mouth\n",
      "Label:\n",
      "A man is holding a toad in his hand.\n",
      "\n",
      "Training completed in 114.45 minutes.\n"
     ]
    },
    {
     "data": {
      "image/png": "[encoded data removed]",
      "text/plain": [
       "<Figure size 1000x500 with 1 Axes>"
      ]
     },
     "metadata": {},
     "output_type": "display_data"
    },
    {
     "data": {
      "text/plain": [
       "<Figure size 640x480 with 0 Axes>"
      ]
     },
     "metadata": {},
     "output_type": "display_data"
    }
   ],
   "source": [
    "# 初始化模型并移到适当的设备\n",
    "model = S2SModel(vocab_size=len(train_dataset.tokens_idx), batch_size=batch_size,\n",
    "                           frame_dim=train_dataset[0][0].shape[1], hidden_dim=hidden_size,\n",
    "                           dropout=dropout_rate, f_len=frame_len, device=device, caption_length=train_dataset.clength)\n",
    "model.to(device)\n",
    "\n",
    "# 打印模型概要\n",
    "print('=== Model Summary ===')\n",
    "print(model)\n",
    "\n",
    "# 设置优化器\n",
    "optimizer = torch.optim.Adam([{'params': model.parameters(), 'initial_lr': lr}], lr=lr)\n",
    "\n",
    "\n",
    "# 训练模型\n",
    "print('\\nStarting training...\\n')\n",
    "start_all = torch.cuda.Event(enable_timing=True)\n",
    "end_all = torch.cuda.Event(enable_timing=True)\n",
    "start_all.record()\n",
    "\n",
    "criterion = torch.nn.NLLLoss()\n",
    "losses = []\n",
    "\n",
    "\n",
    "# 使用tqdm包装整个Epoch循环\n",
    "total_epochs = epoch  \n",
    "pbar = tqdm(range(1, total_epochs + 1), desc='Training Progress')\n",
    "\n",
    "for i in pbar:\n",
    "    model.train()\n",
    "    total_loss = 0  # 初始化总损失\n",
    "\n",
    "    for data in train_loader:\n",
    "        model.zero_grad()\n",
    "        feat = data[0].requires_grad_().to(device)\n",
    "        labels = data[1].max(2)[1].to(device)\n",
    "        predicted_labels = model(feat.float(), labels)\n",
    "        predicted_labels = predicted_labels.reshape(-1, train_dataset.clength-1, len(train_dataset.tokens_idx))\n",
    "        \n",
    "        loss = 0\n",
    "        for b in range(data[0].shape[0]):          \n",
    "            loss += criterion(predicted_labels[b,:], labels[b,1:])\n",
    "        loss.backward()\n",
    "        optimizer.step()\n",
    "\n",
    "    avg_loss = loss.item()\n",
    "    losses.append(avg_loss)\n",
    "\n",
    "    # 更新进度条的描述信息\n",
    "    pbar.set_description(f'Epoch {i}/{total_epochs}, Loss: {avg_loss:.4f}')\n",
    "\n",
    "    # 每隔10个Epoch评估模型性能\n",
    "    if i == 1 or i % 10 == 0:\n",
    "        test_model(model, test_loader, device, train_dataset.clength, len(train_dataset.tokens_idx), train_dataset.tokens_idx)\n",
    "\n",
    "\n",
    "end_all.record()\n",
    "torch.cuda.synchronize()\n",
    "\n",
    "print(f'\\nTraining completed in {start_all.elapsed_time(end_all)/60000:.2f} minutes.')\n",
    "\n",
    "# 保存模型\n",
    "torch.save(model.state_dict(), 'model.pth')\n",
    "\n",
    "# 结果可视化\n",
    "plot_training_loss(losses)"
   ]
  },
  {
   "cell_type": "code",
   "execution_count": 4,
   "id": "91610e01-640b-4fe8-8d1b-7f53b6f51da3",
   "metadata": {},
   "outputs": [
    {
     "ename": "TypeError",
     "evalue": "len() takes exactly one argument (0 given)",
     "output_type": "error",
     "traceback": [
      "\u001b[0;31m---------------------------------------------------------------------------\u001b[0m",
      "\u001b[0;31mTypeError\u001b[0m                                 Traceback (most recent call last)",
      "Cell \u001b[0;32mIn[4], line 1\u001b[0m\n\u001b[0;32m----> 1\u001b[0m \u001b[38;5;28;43mlen\u001b[39;49m\u001b[43m(\u001b[49m\u001b[43m)\u001b[49m\n",
      "\u001b[0;31mTypeError\u001b[0m: len() takes exactly one argument (0 given)"
     ]
    }
   ],
   "source": [
    "len()"
   ]
  },
  {
   "cell_type": "code",
   "execution_count": null,
   "id": "28a6e85a-ee61-4c64-aceb-1af970931480",
   "metadata": {},
   "outputs": [],
   "source": [
    "plot_training_loss(losses)"
   ]
  }
 ],
 "metadata": {
  "kernelspec": {
   "display_name": "joy",
   "language": "python",
   "name": "joy"
  },
  "language_info": {
   "codemirror_mode": {
    "name": "ipython",
    "version": 3
   },
   "file_extension": ".py",
   "mimetype": "text/x-python",
   "name": "python",
   "nbconvert_exporter": "python",
   "pygments_lexer": "ipython3",
   "version": "3.10.10"
  }
 },
 "nbformat": 4,
 "nbformat_minor": 5
}
